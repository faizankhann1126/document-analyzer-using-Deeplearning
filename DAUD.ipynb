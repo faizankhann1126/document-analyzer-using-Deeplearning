{
  "cells": [
    {
      "cell_type": "markdown",
      "metadata": {
        "id": "view-in-github",
        "colab_type": "text"
      },
      "source": [
        "<a href=\"https://colab.research.google.com/github/faizankhann1126/document-analyzer-using-Deeplearning/blob/main/DAUD.ipynb\" target=\"_parent\"><img src=\"https://colab.research.google.com/assets/colab-badge.svg\" alt=\"Open In Colab\"/></a>"
      ]
    },
    {
      "cell_type": "code",
      "source": [
        "from google.colab import drive\n",
        "drive.mount('/content/drive')"
      ],
      "metadata": {
        "colab": {
          "base_uri": "https://localhost:8080/"
        },
        "id": "KYWOkL3CXQ16",
        "outputId": "5b4b0c9f-b08e-479a-e6a0-2be40f550e1d"
      },
      "execution_count": null,
      "outputs": [
        {
          "output_type": "stream",
          "name": "stdout",
          "text": [
            "Mounted at /content/drive\n"
          ]
        }
      ]
    },
    {
      "cell_type": "code",
      "source": [
        "import os\n",
        "import zipfile"
      ],
      "metadata": {
        "id": "eB6NI9PiXWje"
      },
      "execution_count": null,
      "outputs": []
    },
    {
      "cell_type": "code",
      "source": [
        "base_dir = '/content/drive/MyDrive/owndata/'\n",
        "train_dir = os.path.join(base_dir, '')\n",
        "#validation_dir = os.path.join(base_dir, 'validation')\n",
        "\n",
        "train_10_dir = os.path.join(train_dir, '10th')\n",
        "train_12_dir = os.path.join(train_dir, '12th')\n",
        "train_adhar_dir = os.path.join(train_dir, 'Aadhar card')\n",
        "train_income_dir = os.path.join(train_dir, 'Income')"
      ],
      "metadata": {
        "id": "6OExJLKZXjRx"
      },
      "execution_count": null,
      "outputs": []
    },
    {
      "cell_type": "code",
      "source": [
        "print('total training 10th images:', len(os.listdir(train_10_dir)))\n",
        "print('total training 12th images:', len(os.listdir(train_12_dir)))\n",
        "print('total validation Aadhar card images:', len(os.listdir(train_adhar_dir)))\n",
        "print('total validation Income images:', len(os.listdir(train_income_dir)))"
      ],
      "metadata": {
        "colab": {
          "base_uri": "https://localhost:8080/"
        },
        "id": "xHimu3etXmO8",
        "outputId": "cf21c1ff-ad7d-41c6-db05-c21b23377a22"
      },
      "execution_count": null,
      "outputs": [
        {
          "output_type": "stream",
          "name": "stdout",
          "text": [
            "total training 10th images: 9\n",
            "total training 12th images: 8\n",
            "total validation Aadhar card images: 17\n",
            "total validation Income images: 7\n"
          ]
        }
      ]
    },
    {
      "cell_type": "code",
      "source": [
        "%matplotlib inline\n",
        "\n",
        "import matplotlib.pyplot as plt\n",
        "import matplotlib.image as mpimg\n"
      ],
      "metadata": {
        "id": "x2SgYSt6XmZz"
      },
      "execution_count": null,
      "outputs": []
    },
    {
      "cell_type": "code",
      "source": [
        "img=plt.imread(\"/content/drive/MyDrive/owndata/10th/010001.jpg\")\n",
        "print(img.shape)"
      ],
      "metadata": {
        "colab": {
          "base_uri": "https://localhost:8080/"
        },
        "id": "rT3w9ASNX5tF",
        "outputId": "ff41acf9-3a52-4997-c30b-5c2614d81962"
      },
      "execution_count": null,
      "outputs": [
        {
          "output_type": "stream",
          "name": "stdout",
          "text": [
            "(2338, 1654, 3)\n"
          ]
        }
      ]
    },
    {
      "cell_type": "code",
      "source": [
        "from tensorflow.keras import layers\n",
        "from tensorflow.keras import Model"
      ],
      "metadata": {
        "id": "cHPOFjdnX8da"
      },
      "execution_count": null,
      "outputs": []
    },
    {
      "cell_type": "code",
      "source": [
        "# Our input feature map is 150x150x3: 150x150 for the image pixels, and 3 for\n",
        "# the three color channels: R, G, and B\n",
        "img_input = layers.Input(shape=(150, 150, 3))\n",
        "\n",
        "# First convolution extracts 16 filters that are 3x3\n",
        "# Convolution is followed by max-pooling layer with a 2x2 window\n",
        "x = layers.Conv2D(16, 3, activation='relu')(img_input)\n",
        "x = layers.MaxPooling2D(2)(x)\n",
        "\n",
        "# Second convolution extracts 32 filters that are 3x3\n",
        "# Convolution is followed by max-pooling layer with a 2x2 window\n",
        "x = layers.Conv2D(32, 3, activation='relu')(x)\n",
        "x = layers.MaxPooling2D(2)(x)\n",
        "\n",
        "# Third convolution extracts 64 filters that are 3x3\n",
        "# Convolution is followed by max-pooling layer with a 2x2 window\n",
        "x = layers.Conv2D(64, 3, activation='relu')(x)\n",
        "x = layers.MaxPooling2D(2)(x)"
      ],
      "metadata": {
        "id": "wnjPMK-DYBqT"
      },
      "execution_count": null,
      "outputs": []
    },
    {
      "cell_type": "code",
      "source": [
        "# Flatten feature map to a 1-dim tensor so we can add fully connected layers\n",
        "x = layers.Flatten()(x)\n",
        "\n",
        "# Create a fully connected layer with ReLU activation and 512 hidden units\n",
        "x = layers.Dense(512, activation='relu')(x)\n",
        "\n",
        "# Create output layer with a single node and sigmoid activation\n",
        "output = layers.Dense(5, activation='softmax')(x)\n",
        "\n",
        "# Create model:\n",
        "# input = input feature map\n",
        "# output = input feature map + stacked convolution/maxpooling layers + fully \n",
        "# connected layer + sigmoid output layer\n",
        "model = Model(img_input, output)"
      ],
      "metadata": {
        "id": "o7tgC1_bYERc"
      },
      "execution_count": null,
      "outputs": []
    },
    {
      "cell_type": "code",
      "source": [
        "model.summary()"
      ],
      "metadata": {
        "colab": {
          "base_uri": "https://localhost:8080/"
        },
        "id": "N4h565K-YHEL",
        "outputId": "96a04b3d-8bea-4162-c03d-2dec87de8a1b"
      },
      "execution_count": null,
      "outputs": [
        {
          "output_type": "stream",
          "name": "stdout",
          "text": [
            "Model: \"model\"\n",
            "_________________________________________________________________\n",
            " Layer (type)                Output Shape              Param #   \n",
            "=================================================================\n",
            " input_1 (InputLayer)        [(None, 150, 150, 3)]     0         \n",
            "                                                                 \n",
            " conv2d (Conv2D)             (None, 148, 148, 16)      448       \n",
            "                                                                 \n",
            " max_pooling2d (MaxPooling2D  (None, 74, 74, 16)       0         \n",
            " )                                                               \n",
            "                                                                 \n",
            " conv2d_1 (Conv2D)           (None, 72, 72, 32)        4640      \n",
            "                                                                 \n",
            " max_pooling2d_1 (MaxPooling  (None, 36, 36, 32)       0         \n",
            " 2D)                                                             \n",
            "                                                                 \n",
            " conv2d_2 (Conv2D)           (None, 34, 34, 64)        18496     \n",
            "                                                                 \n",
            " max_pooling2d_2 (MaxPooling  (None, 17, 17, 64)       0         \n",
            " 2D)                                                             \n",
            "                                                                 \n",
            " flatten (Flatten)           (None, 18496)             0         \n",
            "                                                                 \n",
            " dense (Dense)               (None, 512)               9470464   \n",
            "                                                                 \n",
            " dense_1 (Dense)             (None, 5)                 2565      \n",
            "                                                                 \n",
            "=================================================================\n",
            "Total params: 9,496,613\n",
            "Trainable params: 9,496,613\n",
            "Non-trainable params: 0\n",
            "_________________________________________________________________\n"
          ]
        }
      ]
    },
    {
      "cell_type": "code",
      "source": [
        "from tensorflow.keras.optimizers import RMSprop\n",
        "\n",
        "model.compile(loss='CategoricalCrossentropy',\n",
        "              optimizer=RMSprop(lr=0.001),\n",
        "              metrics=['acc'])"
      ],
      "metadata": {
        "colab": {
          "base_uri": "https://localhost:8080/"
        },
        "id": "xepnORPeYKIr",
        "outputId": "2078934f-eebc-4f8f-c39d-9f367cf81cc9"
      },
      "execution_count": null,
      "outputs": [
        {
          "output_type": "stream",
          "name": "stderr",
          "text": [
            "/usr/local/lib/python3.7/dist-packages/keras/optimizers/optimizer_v2/rmsprop.py:135: UserWarning: The `lr` argument is deprecated, use `learning_rate` instead.\n",
            "  super(RMSprop, self).__init__(name, **kwargs)\n"
          ]
        }
      ]
    },
    {
      "cell_type": "code",
      "source": [
        "from tensorflow.keras.preprocessing.image import ImageDataGenerator\n",
        "\n",
        "# All images will be rescaled by 1./255\n",
        "train_datagen = ImageDataGenerator(rescale=1./255)\n",
        "\n",
        "# Flow training images in batches of 20 using train_datagen generator\n",
        "train_generator = train_datagen.flow_from_directory(\n",
        "        train_dir,  # This is the source directory for training images\n",
        "        target_size=(150, 150)\n",
        "        )"
      ],
      "metadata": {
        "colab": {
          "base_uri": "https://localhost:8080/"
        },
        "id": "2shYgDfQYPUt",
        "outputId": "743502db-f831-456d-9109-239ea701ae60"
      },
      "execution_count": null,
      "outputs": [
        {
          "output_type": "stream",
          "name": "stdout",
          "text": [
            "Found 51 images belonging to 5 classes.\n"
          ]
        }
      ]
    },
    {
      "cell_type": "code",
      "source": [
        "history = model.fit_generator(\n",
        "      train_generator,\n",
        "      epochs=100)"
      ],
      "metadata": {
        "colab": {
          "base_uri": "https://localhost:8080/"
        },
        "id": "w01RYKPhYSRS",
        "outputId": "95cc10fe-0c7a-4be8-e169-013c8124321d"
      },
      "execution_count": null,
      "outputs": [
        {
          "output_type": "stream",
          "name": "stderr",
          "text": [
            "/usr/local/lib/python3.7/dist-packages/ipykernel_launcher.py:3: UserWarning: `Model.fit_generator` is deprecated and will be removed in a future version. Please use `Model.fit`, which supports generators.\n",
            "  This is separate from the ipykernel package so we can avoid doing imports until\n"
          ]
        },
        {
          "output_type": "stream",
          "name": "stdout",
          "text": [
            "Epoch 1/100\n",
            "2/2 [==============================] - 10s 207ms/step - loss: 6.6820 - acc: 0.2549\n",
            "Epoch 2/100\n",
            "2/2 [==============================] - 1s 480ms/step - loss: 5.8464 - acc: 0.1961\n",
            "Epoch 3/100\n",
            "2/2 [==============================] - 2s 853ms/step - loss: 1.8380 - acc: 0.2745\n",
            "Epoch 4/100\n",
            "2/2 [==============================] - 1s 587ms/step - loss: 1.5804 - acc: 0.2353\n",
            "Epoch 5/100\n",
            "2/2 [==============================] - 1s 613ms/step - loss: 1.5114 - acc: 0.4510\n",
            "Epoch 6/100\n",
            "2/2 [==============================] - 1s 980ms/step - loss: 1.3937 - acc: 0.3333\n",
            "Epoch 7/100\n",
            "2/2 [==============================] - 1s 693ms/step - loss: 1.2580 - acc: 0.6863\n",
            "Epoch 8/100\n",
            "2/2 [==============================] - 1s 498ms/step - loss: 1.5680 - acc: 0.3333\n",
            "Epoch 9/100\n",
            "2/2 [==============================] - 1s 931ms/step - loss: 1.5751 - acc: 0.3529\n",
            "Epoch 10/100\n",
            "2/2 [==============================] - 2s 965ms/step - loss: 0.9199 - acc: 0.8431\n",
            "Epoch 11/100\n",
            "2/2 [==============================] - 2s 890ms/step - loss: 1.7949 - acc: 0.4118\n",
            "Epoch 12/100\n",
            "2/2 [==============================] - 2s 951ms/step - loss: 1.0626 - acc: 0.7255\n",
            "Epoch 13/100\n",
            "2/2 [==============================] - 1s 575ms/step - loss: 0.5187 - acc: 0.9412\n",
            "Epoch 14/100\n",
            "2/2 [==============================] - 2s 575ms/step - loss: 3.1596 - acc: 0.4118\n",
            "Epoch 15/100\n",
            "2/2 [==============================] - 2s 949ms/step - loss: 0.6585 - acc: 0.9020\n",
            "Epoch 16/100\n",
            "2/2 [==============================] - 2s 541ms/step - loss: 0.7454 - acc: 0.7647\n",
            "Epoch 17/100\n",
            "2/2 [==============================] - 2s 599ms/step - loss: 0.7555 - acc: 0.7647\n",
            "Epoch 18/100\n",
            "2/2 [==============================] - 1s 529ms/step - loss: 0.3285 - acc: 0.9608\n",
            "Epoch 19/100\n",
            "2/2 [==============================] - 2s 499ms/step - loss: 0.1786 - acc: 0.9608\n",
            "Epoch 20/100\n",
            "2/2 [==============================] - 2s 975ms/step - loss: 0.2557 - acc: 0.9608\n",
            "Epoch 21/100\n",
            "2/2 [==============================] - 2s 1s/step - loss: 0.1593 - acc: 0.9608\n",
            "Epoch 22/100\n",
            "2/2 [==============================] - 2s 842ms/step - loss: 0.1046 - acc: 0.9804\n",
            "Epoch 23/100\n",
            "2/2 [==============================] - 2s 1s/step - loss: 0.0664 - acc: 0.9804\n",
            "Epoch 24/100\n",
            "2/2 [==============================] - 2s 908ms/step - loss: 0.1017 - acc: 0.9804\n",
            "Epoch 25/100\n",
            "2/2 [==============================] - 2s 935ms/step - loss: 0.2009 - acc: 0.9804\n",
            "Epoch 26/100\n",
            "2/2 [==============================] - 2s 574ms/step - loss: 0.1109 - acc: 0.9804\n",
            "Epoch 27/100\n",
            "2/2 [==============================] - 1s 876ms/step - loss: 0.1073 - acc: 0.9804\n",
            "Epoch 28/100\n",
            "2/2 [==============================] - 1s 961ms/step - loss: 0.0955 - acc: 0.9804\n",
            "Epoch 29/100\n",
            "2/2 [==============================] - 1s 867ms/step - loss: 0.0977 - acc: 0.9804\n",
            "Epoch 30/100\n",
            "2/2 [==============================] - 2s 985ms/step - loss: 0.0824 - acc: 0.9804\n",
            "Epoch 31/100\n",
            "2/2 [==============================] - 1s 457ms/step - loss: 0.1049 - acc: 0.9804\n",
            "Epoch 32/100\n",
            "2/2 [==============================] - 1s 921ms/step - loss: 0.1528 - acc: 0.9804\n",
            "Epoch 33/100\n",
            "2/2 [==============================] - 1s 794ms/step - loss: 0.0535 - acc: 0.9804\n",
            "Epoch 34/100\n",
            "2/2 [==============================] - 1s 623ms/step - loss: 0.0426 - acc: 0.9804\n",
            "Epoch 35/100\n",
            "2/2 [==============================] - 1s 454ms/step - loss: 0.0735 - acc: 0.9804\n",
            "Epoch 36/100\n",
            "2/2 [==============================] - 1s 891ms/step - loss: 0.3957 - acc: 0.9608\n",
            "Epoch 37/100\n",
            "2/2 [==============================] - 1s 892ms/step - loss: 6.3684 - acc: 0.4902\n",
            "Epoch 38/100\n",
            "2/2 [==============================] - 1s 979ms/step - loss: 0.8345 - acc: 0.8431\n",
            "Epoch 39/100\n",
            "2/2 [==============================] - 2s 702ms/step - loss: 0.2550 - acc: 0.9608\n",
            "Epoch 40/100\n",
            "2/2 [==============================] - 1s 579ms/step - loss: 0.8479 - acc: 0.5882\n",
            "Epoch 41/100\n",
            "2/2 [==============================] - 1s 527ms/step - loss: 0.1649 - acc: 0.9804\n",
            "Epoch 42/100\n",
            "2/2 [==============================] - 2s 568ms/step - loss: 0.1000 - acc: 0.9804\n",
            "Epoch 43/100\n",
            "2/2 [==============================] - 1s 536ms/step - loss: 0.0713 - acc: 0.9804\n",
            "Epoch 44/100\n",
            "2/2 [==============================] - 2s 510ms/step - loss: 0.0696 - acc: 0.9608\n",
            "Epoch 45/100\n",
            "2/2 [==============================] - 1s 963ms/step - loss: 0.0819 - acc: 0.9804\n",
            "Epoch 46/100\n",
            "2/2 [==============================] - 1s 479ms/step - loss: 0.0417 - acc: 0.9804\n",
            "Epoch 47/100\n",
            "2/2 [==============================] - 2s 1s/step - loss: 0.0388 - acc: 0.9804\n",
            "Epoch 48/100\n",
            "2/2 [==============================] - 2s 1s/step - loss: 0.0884 - acc: 0.9804\n",
            "Epoch 49/100\n",
            "2/2 [==============================] - 2s 491ms/step - loss: 0.0626 - acc: 0.9804\n",
            "Epoch 50/100\n",
            "2/2 [==============================] - 1s 525ms/step - loss: 0.1001 - acc: 0.9804\n",
            "Epoch 51/100\n",
            "2/2 [==============================] - 1s 377ms/step - loss: 0.0611 - acc: 0.9804\n",
            "Epoch 52/100\n",
            "2/2 [==============================] - 1s 892ms/step - loss: 0.0867 - acc: 0.9804\n",
            "Epoch 53/100\n",
            "2/2 [==============================] - 1s 910ms/step - loss: 0.0669 - acc: 0.9804\n",
            "Epoch 54/100\n",
            "2/2 [==============================] - 1s 1s/step - loss: 0.0961 - acc: 0.9608\n",
            "Epoch 55/100\n",
            "2/2 [==============================] - 2s 591ms/step - loss: 0.0554 - acc: 0.9804\n",
            "Epoch 56/100\n",
            "2/2 [==============================] - 2s 916ms/step - loss: 0.0771 - acc: 0.9804\n",
            "Epoch 57/100\n",
            "2/2 [==============================] - 2s 895ms/step - loss: 0.0539 - acc: 0.9804\n",
            "Epoch 58/100\n",
            "2/2 [==============================] - 2s 548ms/step - loss: 0.0751 - acc: 0.9608\n",
            "Epoch 59/100\n",
            "2/2 [==============================] - 2s 1s/step - loss: 0.0676 - acc: 0.9804\n",
            "Epoch 60/100\n",
            "2/2 [==============================] - 2s 839ms/step - loss: 0.0669 - acc: 0.9804\n",
            "Epoch 61/100\n",
            "2/2 [==============================] - 1s 895ms/step - loss: 0.0750 - acc: 0.9804\n",
            "Epoch 62/100\n",
            "2/2 [==============================] - 1s 477ms/step - loss: 0.0571 - acc: 0.9804\n",
            "Epoch 63/100\n",
            "2/2 [==============================] - 1s 926ms/step - loss: 0.0973 - acc: 0.9804\n",
            "Epoch 64/100\n",
            "2/2 [==============================] - 1s 871ms/step - loss: 0.1815 - acc: 0.9608\n",
            "Epoch 65/100\n",
            "2/2 [==============================] - 2s 529ms/step - loss: 0.0465 - acc: 0.9804\n",
            "Epoch 66/100\n",
            "2/2 [==============================] - 1s 509ms/step - loss: 0.0727 - acc: 0.9804\n",
            "Epoch 67/100\n",
            "2/2 [==============================] - 1s 525ms/step - loss: 0.0467 - acc: 0.9804\n",
            "Epoch 68/100\n",
            "2/2 [==============================] - 1s 582ms/step - loss: 0.0814 - acc: 0.9608\n",
            "Epoch 69/100\n",
            "2/2 [==============================] - 1s 931ms/step - loss: 0.1056 - acc: 0.9608\n",
            "Epoch 70/100\n",
            "2/2 [==============================] - 1s 584ms/step - loss: 0.0717 - acc: 0.9608\n",
            "Epoch 71/100\n",
            "2/2 [==============================] - 2s 973ms/step - loss: 0.1067 - acc: 0.9608\n",
            "Epoch 72/100\n",
            "2/2 [==============================] - 1s 416ms/step - loss: 0.0315 - acc: 0.9804\n",
            "Epoch 73/100\n",
            "2/2 [==============================] - 2s 879ms/step - loss: 0.0537 - acc: 0.9804\n",
            "Epoch 74/100\n",
            "2/2 [==============================] - 2s 1s/step - loss: 0.0636 - acc: 0.9804\n",
            "Epoch 75/100\n",
            "2/2 [==============================] - 2s 566ms/step - loss: 0.0364 - acc: 0.9804\n",
            "Epoch 76/100\n",
            "2/2 [==============================] - 1s 935ms/step - loss: 0.0314 - acc: 0.9804\n",
            "Epoch 77/100\n",
            "2/2 [==============================] - 2s 501ms/step - loss: 0.0328 - acc: 0.9804\n",
            "Epoch 78/100\n",
            "2/2 [==============================] - 1s 645ms/step - loss: 0.0559 - acc: 0.9804\n",
            "Epoch 79/100\n",
            "2/2 [==============================] - 1s 504ms/step - loss: 0.0711 - acc: 0.9804\n",
            "Epoch 80/100\n",
            "2/2 [==============================] - 1s 854ms/step - loss: 1.1826 - acc: 0.8627\n",
            "Epoch 81/100\n",
            "2/2 [==============================] - 1s 548ms/step - loss: 0.2593 - acc: 0.9216\n",
            "Epoch 82/100\n",
            "2/2 [==============================] - 1s 520ms/step - loss: 0.0855 - acc: 0.9608\n",
            "Epoch 83/100\n",
            "2/2 [==============================] - 1s 943ms/step - loss: 0.0586 - acc: 0.9804\n",
            "Epoch 84/100\n",
            "2/2 [==============================] - 2s 823ms/step - loss: 0.0323 - acc: 0.9804\n",
            "Epoch 85/100\n",
            "2/2 [==============================] - 2s 2s/step - loss: 0.0305 - acc: 0.9804\n",
            "Epoch 86/100\n",
            "2/2 [==============================] - 2s 1s/step - loss: 0.0310 - acc: 0.9804\n",
            "Epoch 87/100\n",
            "2/2 [==============================] - 2s 494ms/step - loss: 0.0317 - acc: 0.9804\n",
            "Epoch 88/100\n",
            "2/2 [==============================] - 1s 860ms/step - loss: 0.0995 - acc: 0.9608\n",
            "Epoch 89/100\n",
            "2/2 [==============================] - 2s 978ms/step - loss: 0.0599 - acc: 0.9804\n",
            "Epoch 90/100\n",
            "2/2 [==============================] - 1s 559ms/step - loss: 0.0323 - acc: 0.9804\n",
            "Epoch 91/100\n",
            "2/2 [==============================] - 2s 948ms/step - loss: 0.0688 - acc: 0.9804\n",
            "Epoch 92/100\n",
            "2/2 [==============================] - 1s 594ms/step - loss: 0.0477 - acc: 0.9608\n",
            "Epoch 93/100\n",
            "2/2 [==============================] - 2s 636ms/step - loss: 0.0615 - acc: 0.9608\n",
            "Epoch 94/100\n",
            "2/2 [==============================] - 2s 570ms/step - loss: 0.0506 - acc: 0.9804\n",
            "Epoch 95/100\n",
            "2/2 [==============================] - 2s 1s/step - loss: 0.0644 - acc: 0.9804\n",
            "Epoch 96/100\n",
            "2/2 [==============================] - 2s 1s/step - loss: 0.0312 - acc: 0.9804\n",
            "Epoch 97/100\n",
            "2/2 [==============================] - 2s 1s/step - loss: 0.0298 - acc: 0.9804\n",
            "Epoch 98/100\n",
            "2/2 [==============================] - 2s 2s/step - loss: 0.0297 - acc: 0.9804\n",
            "Epoch 99/100\n",
            "2/2 [==============================] - 2s 990ms/step - loss: 0.0657 - acc: 0.9804\n",
            "Epoch 100/100\n",
            "2/2 [==============================] - 2s 405ms/step - loss: 0.0333 - acc: 0.9804\n"
          ]
        }
      ]
    },
    {
      "cell_type": "code",
      "source": [
        "\n",
        "acc = history.history['acc']\n",
        "loss = history.history['loss']\n",
        "\n",
        "epochs = range(len(acc))\n",
        "\n",
        "# Plot training and validation accuracy per epoch\n",
        "plt.plot(epochs, acc)\n",
        "plt.title('Training accuracy')\n",
        "\n",
        "plt.figure()\n",
        "\n",
        "# Plot training and validation loss per epoch\n",
        "plt.plot(epochs, loss)\n",
        "plt.title('Training loss')"
      ],
      "metadata": {
        "colab": {
          "base_uri": "https://localhost:8080/",
          "height": 562
        },
        "id": "YQhAO4OXYVl-",
        "outputId": "9b209d2c-2307-4164-9e1b-0d756dfeb799"
      },
      "execution_count": null,
      "outputs": [
        {
          "output_type": "execute_result",
          "data": {
            "text/plain": [
              "Text(0.5, 1.0, 'Training loss')"
            ]
          },
          "metadata": {},
          "execution_count": 14
        },
        {
          "output_type": "display_data",
          "data": {
            "text/plain": [
              "<Figure size 432x288 with 1 Axes>"
            ],
            "image/png": "[encoded data removed]"
          },
          "metadata": {
            "needs_background": "light"
          }
        },
        {
          "output_type": "display_data",
          "data": {
            "text/plain": [
              "<Figure size 432x288 with 1 Axes>"
            ],
            "image/png": "[encoded data removed]"
          },
          "metadata": {
            "needs_background": "light"
          }
        }
      ]
    },
    {
      "cell_type": "code",
      "source": [
        "img=plt.imread(\"/content/drive/MyDrive/owndata/Income/010062.jpg\")\n",
        "plt.imshow(img)"
      ],
      "metadata": {
        "colab": {
          "base_uri": "https://localhost:8080/",
          "height": 286
        },
        "id": "ur--gvcVYd09",
        "outputId": "f1a99727-c3d7-4177-8659-342ad47eb6ce"
      },
      "execution_count": null,
      "outputs": [
        {
          "output_type": "execute_result",
          "data": {
            "text/plain": [
              "<matplotlib.image.AxesImage at 0x7f363eb93f50>"
            ]
          },
          "metadata": {},
          "execution_count": 15
        },
        {
          "output_type": "display_data",
          "data": {
            "text/plain": [
              "<Figure size 432x288 with 1 Axes>"
            ],
            "image/png": "[encoded data removed]"
          },
          "metadata": {
            "needs_background": "light"
          }
        }
      ]
    },
    {
      "cell_type": "code",
      "source": [
        "from tensorflow.keras.preprocessing.image import load_img, img_to_array, ImageDataGenerator\n",
        "from tensorflow.keras.applications.vgg16 import preprocess_input\n",
        "import numpy as np\n",
        "\n",
        "#load the image\n",
        "my_image = load_img('/content/drive/MyDrive/owndata/Income/010062.jpg', target_size=(150, 150))\n",
        "\n",
        "#preprocess the image\n",
        "my_image = img_to_array(my_image)\n",
        "my_image = my_image.reshape((1, my_image.shape[0], my_image.shape[1], my_image.shape[2]))\n",
        "my_image = preprocess_input(my_image)\n",
        "\n",
        "#make the prediction\n",
        "prediction = model.predict(my_image)\n",
        "prediction =np.argmax(prediction)\n",
        "\n",
        "if prediction ==0:\n",
        "  print(\"This is a 10th Marksheet\")\n",
        "elif prediction ==1:\n",
        "  print(\"This is a 12th Marksheet\")\n",
        "elif prediction ==2:\n",
        "  print(\"This is a Aadhar Card\")\n",
        "elif prediction ==3:\n",
        "  print(\"This is a Income Certificate\")\n",
        "elif prediction ==4:\n",
        "  print(\"This is a TC\") "
      ],
      "metadata": {
        "colab": {
          "base_uri": "https://localhost:8080/"
        },
        "id": "tn4jzTmXYh_9",
        "outputId": "11a7fdb4-2064-44a9-e8bd-cfe86868b5da"
      },
      "execution_count": null,
      "outputs": [
        {
          "output_type": "stream",
          "name": "stdout",
          "text": [
            "1/1 [==============================] - 0s 170ms/step\n",
            "This is a Income Certificate\n"
          ]
        }
      ]
    }
  ],
  "metadata": {
    "accelerator": "GPU",
    "colab": {
      "provenance": [],
      "authorship_tag": "ABX9TyPeP3iYkwzxjkbY34w0i/nX",
      "include_colab_link": true
    },
    "kernelspec": {
      "display_name": "Python 3",
      "name": "python3"
    },
    "language_info": {
      "name": "python"
    }
  },
  "nbformat": 4,
  "nbformat_minor": 0
}